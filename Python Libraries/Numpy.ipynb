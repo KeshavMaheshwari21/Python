{
 "cells": [
  {
   "cell_type": "markdown",
   "metadata": {},
   "source": [
    "<h2>Numpy Library :-</h2>"
   ]
  },
  {
   "cell_type": "markdown",
   "metadata": {},
   "source": [
    "NumPy is a fundamental library for scientific computing in Python, widely used for its powerful features and capabilities. \n",
    "\n",
    "NumPy provides support for large, multi-dimensional arrays and matrices, along with a collection of mathematical functions to operate on these arrays.\n",
    "\n",
    "NumPy allows to perform arithmetic operations on arrays of different shapes and sizes without needing to explicitly reshape them. \n",
    "This makes code simpler and more intuitive.\n",
    "\n",
    "Many other scientific computing and data analysis libraries, such as SciPy, Pandas, Matplotlib, and Scikit-Learn, are built on top of NumPy arrays, \n",
    "ensuring compatibility and seamless integration.\n",
    "\n",
    "NumPy arrays consume less memory.\n",
    "\n",
    "NumPy includes functions for linear algebra operations, Fourier transforms, and random number generation, which are essential for many scientific and engineering applications."
   ]
  },
  {
   "cell_type": "code",
   "execution_count": 45,
   "metadata": {},
   "outputs": [],
   "source": [
    "# To Download numpy library --> pip install numpy (write in command prompt)\n",
    "# Import the numpy library as np\n",
    "\n",
    "import numpy as np"
   ]
  },
  {
   "cell_type": "markdown",
   "metadata": {},
   "source": [
    "<h4>1-Dimension Array :-</h4>"
   ]
  },
  {
   "cell_type": "code",
   "execution_count": 46,
   "metadata": {},
   "outputs": [
    {
     "data": {
      "text/plain": [
       "array([25, 41, 63, 66, 85, 74])"
      ]
     },
     "execution_count": 46,
     "metadata": {},
     "output_type": "execute_result"
    }
   ],
   "source": [
    "# Creation of array 1D\n",
    "arr = np.array([25,41,63,66,85,74])\n",
    "arr"
   ]
  },
  {
   "cell_type": "code",
   "execution_count": 47,
   "metadata": {},
   "outputs": [
    {
     "data": {
      "text/plain": [
       "numpy.ndarray"
      ]
     },
     "execution_count": 47,
     "metadata": {},
     "output_type": "execute_result"
    }
   ],
   "source": [
    "type(arr) # ndarray --> n dimensional array\n",
    "\n",
    "# type() function is used to determine the type of an object."
   ]
  },
  {
   "cell_type": "code",
   "execution_count": 48,
   "metadata": {},
   "outputs": [
    {
     "data": {
      "text/plain": [
       "dtype('int64')"
      ]
     },
     "execution_count": 48,
     "metadata": {},
     "output_type": "execute_result"
    }
   ],
   "source": [
    "arr.dtype\n",
    "# The dtype attribute of a NumPy array is used to determine the type of elements stored in the array."
   ]
  },
  {
   "cell_type": "code",
   "execution_count": 49,
   "metadata": {},
   "outputs": [
    {
     "data": {
      "text/plain": [
       "6"
      ]
     },
     "execution_count": 49,
     "metadata": {},
     "output_type": "execute_result"
    }
   ],
   "source": [
    "arr.size #  The size attribute of an array returns the total number of elements in the array"
   ]
  },
  {
   "cell_type": "code",
   "execution_count": 50,
   "metadata": {},
   "outputs": [
    {
     "data": {
      "text/plain": [
       "6"
      ]
     },
     "execution_count": 50,
     "metadata": {},
     "output_type": "execute_result"
    }
   ],
   "source": [
    "len(arr) # The len() function is a built-in Python function used to get the number of items in a container"
   ]
  },
  {
   "cell_type": "code",
   "execution_count": 51,
   "metadata": {},
   "outputs": [
    {
     "data": {
      "text/plain": [
       "1"
      ]
     },
     "execution_count": 51,
     "metadata": {},
     "output_type": "execute_result"
    }
   ],
   "source": [
    "arr.ndim # The ndim attribute is used to determine the number of dimensions of an array. "
   ]
  },
  {
   "cell_type": "markdown",
   "metadata": {},
   "source": [
    "<h5>Indexing in 1-D Array:-</h5>\n",
    "\n",
    "Indexing in a 1D NumPy array is similar to indexing in standard Python lists. "
   ]
  },
  {
   "cell_type": "code",
   "execution_count": 52,
   "metadata": {},
   "outputs": [
    {
     "name": "stdout",
     "output_type": "stream",
     "text": [
      "10\n",
      "30\n"
     ]
    }
   ],
   "source": [
    "# Creating a 1D NumPy array\n",
    "arr = np.array([10, 20, 30, 40, 50])\n",
    "\n",
    "# Accessing elements\n",
    "print(arr[0])  # Output: 10\n",
    "print(arr[2])  # Output: 30"
   ]
  },
  {
   "cell_type": "code",
   "execution_count": 53,
   "metadata": {},
   "outputs": [
    {
     "name": "stdout",
     "output_type": "stream",
     "text": [
      "[10 25 30 40 50]\n"
     ]
    }
   ],
   "source": [
    "# Modifying elements\n",
    "arr[1] = 25\n",
    "print(arr)  # Output: [10 25 30 40 50]"
   ]
  },
  {
   "cell_type": "code",
   "execution_count": 54,
   "metadata": {},
   "outputs": [
    {
     "name": "stdout",
     "output_type": "stream",
     "text": [
      "[25 30 40]\n",
      "[10 25 30]\n",
      "[10 30 50]\n",
      "[30 40 50]\n"
     ]
    }
   ],
   "source": [
    "# Slicing elements\n",
    "print(arr[1:4])  # Output: [25 30 40]\n",
    "print(arr[:3])   # Output: [10 25 30]\n",
    "print(arr[::2])  # Output: [10 30 50]\n",
    "print(arr[-3:])  # Output: [30 40 50]  (slicing with negative index)"
   ]
  },
  {
   "cell_type": "code",
   "execution_count": 55,
   "metadata": {},
   "outputs": [
    {
     "name": "stdout",
     "output_type": "stream",
     "text": [
      "[ 81  82  31 193  62  53  40 196  82  84  49 120  57  60  58  32  44  35\n",
      " 176  13  25 156 157   6  18  62 180 163  21 170  87 109 104  82  49 172\n",
      " 113  11 122  43  24   8  10 144   7 146  61 156 101 127  98 132 170  99\n",
      "  10  82  59  16 160  53 108  94  53  11  87 192 181 148 141  52  55 158\n",
      "  53 135 194  76  14 121 174  65 185   4  78  25  28 145 134 173   5  14\n",
      " 164 135  27  40  35 100  88  25 100  54 132 199  79  49  17 179 162  96\n",
      "  97  76 159 113  10 156 168 137  36  39 194 183 133 125  39 173 147  92\n",
      " 119 123 141 164  63 167  82  87  97 162  63  48 155 102 124  17 161  90\n",
      " 193 146 105  20  22 157  98 127  35  60  93  76 147  33  96 142 123  18\n",
      "  63   1 149  75  10 177 180 162 137  91 175   8  54 167 197  42 172  64\n",
      " 159  81 152 197  70 163 134 197 181  29  44  80 172   6 130  55  29 151\n",
      "   7  20  54 171  92 163 155 111 152 156   6 193 104 101  35 167 191  13\n",
      "   1  34  30 171 140  88  73  93  40 106  55 162 180  94  14 102   6 115\n",
      "  90 129 193 136 184   8 166  84 178   9 166  99 126  22 117  55 193  10\n",
      " 134 122  68 137  75 183  81  77  54   1  41 107  12 178  66  92  43  58\n",
      "  82 145  95   5 135   8  76 187 134 179 116  55 189   2 163 182   8  32\n",
      " 125 135  14  81 143  94 142 116  24 141   2 110  17 143  77  72 128 111\n",
      "  17 160 130 124 124  11 117  61 116 198 100 104 113   2 113   5  51  47\n",
      " 111 144 152  48  78 155 179 126 159 187  47 131 186  70 125   4  44 131\n",
      "  98  42 197 125 124  40 104 136  46  38 179 119  77  51 116 198   7 169\n",
      "  74 190 163  79  51 112  91  22 149   5 176  92  99 108 161  33 162 152\n",
      " 182 132 152  20  29 107 190  53 169 182 165  62  10 102  42  82  32  39\n",
      " 191 109 105  94 143  84 131 143 175 125 111 135 161  49  93 179  97  53\n",
      "  42  40 145 169 187 142 187 164  18 144  64 123 136  74  97 123  21  10\n",
      "  98 159  48  94 145  87 106 107  12  82 105 145  11 153  58  77  29  19\n",
      " 199 159 127 144 131   9  98 178 139  41  85  79  20  45 102 155  82 109\n",
      " 163 127  95  99 191  15  20 198  21 131 198  12  65 116  90   7 112  32\n",
      "  70  43  14  18 112 146  83  58  58 123  70 187  74 139]\n"
     ]
    }
   ],
   "source": [
    "# The numpy.random.randint() function in NumPy is used to generate random integers within a specified range.\n",
    "arr = np.random.randint(1,200,500)\n",
    "print(arr)"
   ]
  },
  {
   "cell_type": "markdown",
   "metadata": {},
   "source": [
    "<h4>2-Dimension Array :-</h4>\n",
    "\n",
    "2D arrays (also known as matrices) in NumPy is a common task in scientific computing and data analysis. \n",
    "\n",
    "NumPy provides a range of functionalities to create, manipulate, and perform operations on 2D arrays."
   ]
  },
  {
   "cell_type": "code",
   "execution_count": 56,
   "metadata": {},
   "outputs": [
    {
     "name": "stdout",
     "output_type": "stream",
     "text": [
      "[[1 2 3]\n",
      " [4 5 6]\n",
      " [7 8 9]]\n"
     ]
    }
   ],
   "source": [
    "# Creating a 2D NumPy array\n",
    "arr2d = np.array([[1, 2, 3], [4, 5, 6], [7, 8, 9]])\n",
    "print(arr2d)"
   ]
  },
  {
   "cell_type": "code",
   "execution_count": 57,
   "metadata": {},
   "outputs": [
    {
     "name": "stdout",
     "output_type": "stream",
     "text": [
      "Element at (0, 0): 1\n",
      "Element at (1, 2): 6\n"
     ]
    }
   ],
   "source": [
    "# Accessing elements\n",
    "print(\"Element at (0, 0):\", arr2d[0, 0])  # Output: 1\n",
    "print(\"Element at (1, 2):\", arr2d[1, 2])  # Output: 6"
   ]
  },
  {
   "cell_type": "code",
   "execution_count": 58,
   "metadata": {},
   "outputs": [
    {
     "name": "stdout",
     "output_type": "stream",
     "text": [
      "Modified 2D Array:\n",
      "[[ 1  2  3]\n",
      " [ 4  5 10]\n",
      " [ 7  8  9]]\n"
     ]
    }
   ],
   "source": [
    "# Modifying elements\n",
    "arr2d[1, 2] = 10\n",
    "print(\"Modified 2D Array:\")\n",
    "print(arr2d)"
   ]
  },
  {
   "cell_type": "code",
   "execution_count": 59,
   "metadata": {},
   "outputs": [
    {
     "name": "stdout",
     "output_type": "stream",
     "text": [
      "First two rows:\n",
      "[[ 1  2  3]\n",
      " [ 4  5 10]]\n"
     ]
    }
   ],
   "source": [
    "# Slicing rows\n",
    "print(\"First two rows:\")\n",
    "print(arr2d[:2])"
   ]
  },
  {
   "cell_type": "code",
   "execution_count": 60,
   "metadata": {},
   "outputs": [
    {
     "name": "stdout",
     "output_type": "stream",
     "text": [
      "First two columns:\n",
      "[[1 2]\n",
      " [4 5]\n",
      " [7 8]]\n"
     ]
    }
   ],
   "source": [
    "# Slicing columns\n",
    "print(\"First two columns:\")\n",
    "print(arr2d[:, :2])"
   ]
  },
  {
   "cell_type": "code",
   "execution_count": 61,
   "metadata": {},
   "outputs": [
    {
     "name": "stdout",
     "output_type": "stream",
     "text": [
      "Transposed Array:\n",
      "[[ 1  4  7]\n",
      " [ 2  5  8]\n",
      " [ 3 10  9]]\n"
     ]
    }
   ],
   "source": [
    "# Transposing the array\n",
    "print(\"Transposed Array:\")\n",
    "print(arr2d.T)"
   ]
  },
  {
   "cell_type": "code",
   "execution_count": 62,
   "metadata": {},
   "outputs": [
    {
     "name": "stdout",
     "output_type": "stream",
     "text": [
      "Sum of all elements: 49\n"
     ]
    }
   ],
   "source": [
    "# Summing all elements\n",
    "print(\"Sum of all elements:\", np.sum(arr2d))"
   ]
  },
  {
   "cell_type": "code",
   "execution_count": 63,
   "metadata": {},
   "outputs": [
    {
     "name": "stdout",
     "output_type": "stream",
     "text": [
      "Element-wise multiplication:\n",
      "[[ 2  4  6]\n",
      " [ 8 10 20]\n",
      " [14 16 18]]\n"
     ]
    }
   ],
   "source": [
    "# Element-wise operations\n",
    "print(\"Element-wise multiplication:\")\n",
    "print(arr2d * 2)"
   ]
  },
  {
   "cell_type": "code",
   "execution_count": 64,
   "metadata": {},
   "outputs": [
    {
     "name": "stdout",
     "output_type": "stream",
     "text": [
      "[[ 22  28]\n",
      " [ 69  88]\n",
      " [ 76 100]]\n"
     ]
    }
   ],
   "source": [
    "# Matrix multiplication\n",
    "arr2d_2 = np.array([[1, 2], [3, 4], [5, 6]])\n",
    "print(np.dot(arr2d, arr2d_2))"
   ]
  },
  {
   "cell_type": "markdown",
   "metadata": {},
   "source": [
    "<h4>3-Dimension Array :-</h4>\n",
    "\n",
    "3-dimensional (3D) arrays in NumPy involves similar concepts to working with 2D arrays but adds an additional dimension for more complex data structures."
   ]
  },
  {
   "cell_type": "code",
   "execution_count": 65,
   "metadata": {},
   "outputs": [],
   "source": [
    "arr3 = np.random.randint(1,200,(3,5,3))"
   ]
  },
  {
   "cell_type": "code",
   "execution_count": 66,
   "metadata": {},
   "outputs": [
    {
     "data": {
      "text/plain": [
       "(3, 5, 3)"
      ]
     },
     "execution_count": 66,
     "metadata": {},
     "output_type": "execute_result"
    }
   ],
   "source": [
    "# The shape attribute of an array provides a tuple representing the dimensions of the array.\n",
    "\n",
    "arr3.shape # (table, row, column)"
   ]
  },
  {
   "cell_type": "code",
   "execution_count": 67,
   "metadata": {},
   "outputs": [
    {
     "name": "stdout",
     "output_type": "stream",
     "text": [
      "1\n",
      "12\n",
      "17\n"
     ]
    }
   ],
   "source": [
    "# Creating a 3D NumPy array\n",
    "arr3d = np.array([[[1, 2, 3], [4, 5, 6]], \n",
    "                  [[7, 8, 9], [10, 11, 12]], \n",
    "                  [[13, 14, 15], [16, 17, 18]]])\n",
    "\n",
    "# Accessing specific elements\n",
    "print(arr3d[0, 0, 0])  # Output: 1\n",
    "print(arr3d[1, 1, 2])  # Output: 12\n",
    "print(arr3d[2, 1, 1])  # Output: 17"
   ]
  },
  {
   "cell_type": "markdown",
   "metadata": {},
   "source": [
    "<h3>Numpy Functions :-</h3>"
   ]
  },
  {
   "cell_type": "code",
   "execution_count": 68,
   "metadata": {},
   "outputs": [
    {
     "data": {
      "text/plain": [
       "array([0., 0., 0., 0., 0., 0., 0., 0., 0., 0.])"
      ]
     },
     "execution_count": 68,
     "metadata": {},
     "output_type": "execute_result"
    }
   ],
   "source": [
    "# The zeros() function in NumPy is used to create an array filled with zeros.\n",
    "\n",
    "arr = np.zeros(10)\n",
    "arr"
   ]
  },
  {
   "cell_type": "code",
   "execution_count": 69,
   "metadata": {},
   "outputs": [
    {
     "data": {
      "text/plain": [
       "array([[0., 0., 0., 0., 0.],\n",
       "       [0., 0., 0., 0., 0.],\n",
       "       [0., 0., 0., 0., 0.],\n",
       "       [0., 0., 0., 0., 0.],\n",
       "       [0., 0., 0., 0., 0.],\n",
       "       [0., 0., 0., 0., 0.],\n",
       "       [0., 0., 0., 0., 0.],\n",
       "       [0., 0., 0., 0., 0.],\n",
       "       [0., 0., 0., 0., 0.],\n",
       "       [0., 0., 0., 0., 0.]])"
      ]
     },
     "execution_count": 69,
     "metadata": {},
     "output_type": "execute_result"
    }
   ],
   "source": [
    "arr = np.zeros((10,5)) # 10 row 5 column with item = 0\n",
    "arr"
   ]
  },
  {
   "cell_type": "code",
   "execution_count": 70,
   "metadata": {},
   "outputs": [
    {
     "data": {
      "text/plain": [
       "array([[1., 1., 1., 1., 1.],\n",
       "       [1., 1., 1., 1., 1.],\n",
       "       [1., 1., 1., 1., 1.],\n",
       "       [1., 1., 1., 1., 1.],\n",
       "       [1., 1., 1., 1., 1.],\n",
       "       [1., 1., 1., 1., 1.],\n",
       "       [1., 1., 1., 1., 1.],\n",
       "       [1., 1., 1., 1., 1.],\n",
       "       [1., 1., 1., 1., 1.],\n",
       "       [1., 1., 1., 1., 1.]])"
      ]
     },
     "execution_count": 70,
     "metadata": {},
     "output_type": "execute_result"
    }
   ],
   "source": [
    "# The ones() function in NumPy is used to create an array filled with ones.\n",
    "\n",
    "arr = np.ones((10,5)) # 10 row 5 column with item = 1\n",
    "arr"
   ]
  },
  {
   "cell_type": "code",
   "execution_count": 71,
   "metadata": {},
   "outputs": [
    {
     "data": {
      "text/plain": [
       "array([0, 1, 2, 3, 4, 5, 6, 7, 8, 9])"
      ]
     },
     "execution_count": 71,
     "metadata": {},
     "output_type": "execute_result"
    }
   ],
   "source": [
    "# The arange() function in NumPy is used to create arrays with evenly spaced values within a specified range.\n",
    "# numpy.arange(start, stop, step)\n",
    "\n",
    "np.arange(10) # creates array from range 0-10\n",
    "# creates always 1D array"
   ]
  },
  {
   "cell_type": "code",
   "execution_count": 72,
   "metadata": {},
   "outputs": [
    {
     "data": {
      "text/plain": [
       "array([ 0,  1,  2,  3,  4,  5,  6,  7,  8,  9, 10, 11, 12, 13, 14, 15, 16,\n",
       "       17, 18, 19, 20, 21, 22, 23, 24, 25, 26, 27, 28, 29, 30, 31, 32, 33,\n",
       "       34, 35, 36, 37, 38, 39, 40, 41, 42, 43, 44, 45, 46, 47, 48, 49, 50,\n",
       "       51, 52, 53, 54, 55, 56, 57, 58, 59])"
      ]
     },
     "execution_count": 72,
     "metadata": {},
     "output_type": "execute_result"
    }
   ],
   "source": [
    "arr = np.arange(60)\n",
    "arr # 1D"
   ]
  },
  {
   "cell_type": "code",
   "execution_count": 73,
   "metadata": {},
   "outputs": [
    {
     "data": {
      "text/plain": [
       "array([[ 0,  1,  2,  3,  4,  5,  6,  7,  8,  9],\n",
       "       [10, 11, 12, 13, 14, 15, 16, 17, 18, 19],\n",
       "       [20, 21, 22, 23, 24, 25, 26, 27, 28, 29],\n",
       "       [30, 31, 32, 33, 34, 35, 36, 37, 38, 39],\n",
       "       [40, 41, 42, 43, 44, 45, 46, 47, 48, 49],\n",
       "       [50, 51, 52, 53, 54, 55, 56, 57, 58, 59]])"
      ]
     },
     "execution_count": 73,
     "metadata": {},
     "output_type": "execute_result"
    }
   ],
   "source": [
    "# The reshape() function in NumPy is used to change the shape of an existing array without modifying its data.\n",
    "arr = arr.reshape(6,10) # 1D --> 2D\n",
    "arr"
   ]
  },
  {
   "cell_type": "code",
   "execution_count": 74,
   "metadata": {},
   "outputs": [
    {
     "data": {
      "text/plain": [
       "np.int64(4)"
      ]
     },
     "execution_count": 74,
     "metadata": {},
     "output_type": "execute_result"
    }
   ],
   "source": [
    "arr = np.array([1,2,4,3])\n",
    "np.max(arr) # used to find the maximum value in an array."
   ]
  },
  {
   "cell_type": "code",
   "execution_count": 75,
   "metadata": {},
   "outputs": [
    {
     "data": {
      "text/plain": [
       "np.int64(1)"
      ]
     },
     "execution_count": 75,
     "metadata": {},
     "output_type": "execute_result"
    }
   ],
   "source": [
    "np.min(arr) # used to find the minimum value in an array."
   ]
  },
  {
   "cell_type": "code",
   "execution_count": 76,
   "metadata": {},
   "outputs": [
    {
     "data": {
      "text/plain": [
       "np.int64(10)"
      ]
     },
     "execution_count": 76,
     "metadata": {},
     "output_type": "execute_result"
    }
   ],
   "source": [
    "np.sum(arr) # used to compute the sum of array elements over a specified axis or the entire array."
   ]
  },
  {
   "cell_type": "code",
   "execution_count": 77,
   "metadata": {},
   "outputs": [
    {
     "data": {
      "text/plain": [
       "np.int64(0)"
      ]
     },
     "execution_count": 77,
     "metadata": {},
     "output_type": "execute_result"
    }
   ],
   "source": [
    "np.argmin(arr) # returns the index position of the minimum item"
   ]
  },
  {
   "cell_type": "code",
   "execution_count": 78,
   "metadata": {},
   "outputs": [
    {
     "data": {
      "text/plain": [
       "np.int64(2)"
      ]
     },
     "execution_count": 78,
     "metadata": {},
     "output_type": "execute_result"
    }
   ],
   "source": [
    "np.argmax(arr) # returns the index position of the maximum item"
   ]
  },
  {
   "cell_type": "code",
   "execution_count": 79,
   "metadata": {},
   "outputs": [
    {
     "data": {
      "text/plain": [
       "array([1, 2, 3, 4])"
      ]
     },
     "execution_count": 79,
     "metadata": {},
     "output_type": "execute_result"
    }
   ],
   "source": [
    "# used to sort elements of an array along a specified axis. It returns a sorted copy of the array.\n",
    "arr.sort() # Ascending order\n",
    "arr"
   ]
  },
  {
   "cell_type": "code",
   "execution_count": 80,
   "metadata": {},
   "outputs": [
    {
     "data": {
      "text/plain": [
       "array([4, 3, 2, 1])"
      ]
     },
     "execution_count": 80,
     "metadata": {},
     "output_type": "execute_result"
    }
   ],
   "source": [
    "arr[::-1] # Descending order"
   ]
  }
 ],
 "metadata": {
  "kernelspec": {
   "display_name": "Python 3",
   "language": "python",
   "name": "python3"
  },
  "language_info": {
   "codemirror_mode": {
    "name": "ipython",
    "version": 3
   },
   "file_extension": ".py",
   "mimetype": "text/x-python",
   "name": "python",
   "nbconvert_exporter": "python",
   "pygments_lexer": "ipython3",
   "version": "3.12.4"
  }
 },
 "nbformat": 4,
 "nbformat_minor": 2
}
