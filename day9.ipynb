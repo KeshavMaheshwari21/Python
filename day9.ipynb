{
 "cells": [
  {
   "cell_type": "markdown",
   "metadata": {},
   "source": [
    "<h1>OOPS : </h1>"
   ]
  },
  {
   "cell_type": "code",
   "execution_count": 32,
   "metadata": {},
   "outputs": [
    {
     "name": "stdout",
     "output_type": "stream",
     "text": [
      "Constructor Called !\n",
      "Constructor Called !\n"
     ]
    }
   ],
   "source": [
    "class college:\n",
    "    # properrtes inside the class\n",
    "    # class variables\n",
    "    college_name = \"Pooornima Institute of Engineering\"\n",
    "    college_city = \"Jaipur\"\n",
    "\n",
    "    # Instance Variable Constructor\n",
    "    # Constructor is a kind of special function and which used to intialize the variables\n",
    "    # self is a default parameter\n",
    "    # No need of calling the constructor the constructor is automatically called when the object is made\n",
    "\n",
    "    def __init__(self,cs_hod,ece_hod,e_hod): # creation of the constructor\n",
    "        # instance variables\n",
    "        self.college_cse_hod = cs_hod\n",
    "        self.college_ece_hod = ece_hod\n",
    "        self.college_electrical_hod = e_hod\n",
    "        self.student_marks = [25,35,45,41,42,47,49,38,39,29,46,47]\n",
    "        self.random_number = [52,14,25,36,96,85,74,47,58,69,25,6,45,63,67,81]\n",
    "        print(\"Constructor Called !\")\n",
    "\n",
    "# The variables of the constructor cannot be called by usig class name you have to make a object \n",
    "# college.college_cse_hod\n",
    "# self --> pointer\n",
    "\n",
    "    def display(self):\n",
    "        print(\"My College Name : \",self.college_name)\n",
    "        print(\"My Cse HOD : \",self.college_cse_hod)\n",
    "        print(\"My College City : \",self.college_city)\n",
    "\n",
    "# Making a method for the average marks from the marks\n",
    "\n",
    "    def average_marks(self):\n",
    "        marks = self.student_marks\n",
    "        sum = 0\n",
    "        count = 0\n",
    "        for i in marks:\n",
    "            sum += i\n",
    "            count += 1\n",
    "        print(\"Average marks :\",sum/count)\n",
    "\n",
    "\n",
    "obj1 = college(\"Manoj Sharma\",\"Uday pratap\",\"Rahul Tridevi\")\n",
    "obj2 = college(\"Manvik Sharma\",\"Kailash pratap\",\"Madhav Tridevi\")\n"
   ]
  },
  {
   "cell_type": "code",
   "execution_count": 33,
   "metadata": {},
   "outputs": [
    {
     "name": "stdout",
     "output_type": "stream",
     "text": [
      "Average marks : 40.25\n"
     ]
    }
   ],
   "source": [
    "obj1.average_marks()"
   ]
  },
  {
   "cell_type": "code",
   "execution_count": 34,
   "metadata": {},
   "outputs": [
    {
     "name": "stdout",
     "output_type": "stream",
     "text": [
      "My College Name :  Pooornima Institute of Engineering\n",
      "My Cse HOD :  Manvik Sharma\n",
      "My College City :  Jaipur\n"
     ]
    }
   ],
   "source": [
    "obj2.display()"
   ]
  },
  {
   "cell_type": "code",
   "execution_count": 62,
   "metadata": {},
   "outputs": [
    {
     "name": "stdout",
     "output_type": "stream",
     "text": [
      "4\n",
      "Even_List : [52, 14, 36, 96, 74, 58, 6, 2, 44]\n",
      "Even :  9\n",
      "Odd_List : [25, 85, 47, 69, 25, 45, 63, 67, 81, 9, 1, 7, 1, 13, 1, 45]\n",
      "Odd :  16\n",
      "Avg of Even :  42.44444444444444\n"
     ]
    }
   ],
   "source": [
    "class hello:\n",
    "    def __init__(self):\n",
    "        self.random_number = [52,14,25,36,96,85,74,47,58,69,25,6,45,63,67,81,9,1,7,1,2,13,1,45,44]\n",
    "\n",
    "    # create a method to find even & odd\n",
    "    def even_odd(self):\n",
    "        random = self.random_number\n",
    "        even_list = []\n",
    "        odd_list = []\n",
    "        even = 0\n",
    "        odd = 0\n",
    "        sum=0\n",
    "        count=0\n",
    "        for i in random:\n",
    "            if(i%2==0):\n",
    "                even += 1\n",
    "                even_list.append(i)\n",
    "            else:\n",
    "                odd += 1\n",
    "                odd_list.append(i)\n",
    "        print(\"Even_List :\",even_list)\n",
    "        print(\"Even : \",even)\n",
    "        print(\"Odd_List :\",odd_list)\n",
    "        print(\"Odd : \",odd)\n",
    "        for i in even_list:\n",
    "            sum+=i\n",
    "            count+=1\n",
    "        print(\"Avg of Even : \",sum/count)\n",
    "\n",
    "    # creating a method to find the index of the number in the list\n",
    "    def target_finder(self,i):\n",
    "        count=0\n",
    "        list = self.random_number\n",
    "        for j in list:\n",
    "            if i==j:\n",
    "                print(count)\n",
    "                break\n",
    "            count+=1\n",
    "\n",
    "obj = hello()\n",
    "obj.target_finder(96)\n",
    "obj.even_odd()"
   ]
  },
  {
   "cell_type": "code",
   "execution_count": 29,
   "metadata": {},
   "outputs": [
    {
     "name": "stdout",
     "output_type": "stream",
     "text": [
      "The Percentage: 100.0\n"
     ]
    }
   ],
   "source": [
    "# Creating a class to find the Percentage by taking the marks as input from the user\n",
    "class Percentage:\n",
    "    \n",
    "    # Default Constructor is made in which the list is passed for the subjects\n",
    "    def __init__(self):\n",
    "        self.subjects = ['Physics 1', 'Physics 2', 'Chemistry 1', 'Chemistry 2', 'Maths', 'English', 'Hindi']\n",
    "    \n",
    "    # Creating a method to calculate Percentage\n",
    "    def mark_per(self):\n",
    "        number = []\n",
    "        total = 0\n",
    "        count = 0\n",
    "\n",
    "        # Taking the marks as input fromthe user and by append() function adding the number in an empty list until the subjects ends\n",
    "        for subject in self.subjects:\n",
    "            marks = int(input(f\"Enter the Marks for {subject}: \"))\n",
    "            number.append(marks)\n",
    "        \n",
    "        # Calculating the total marks and number of subjects\n",
    "        for marks in number:\n",
    "            total += marks  # Calculate Total Marks\n",
    "            count += 1      # Counts no. of subject\n",
    "        \n",
    "\n",
    "        total_marks = count * 100  # Counting total marks\n",
    "        per = (total / total_marks) * 100 # calculating the percentage\n",
    "\n",
    "        print(\"The Percentage:\",per)\n",
    "\n",
    "# Making the object\n",
    "obj = Percentage()\n",
    "obj.mark_per()\n"
   ]
  },
  {
   "cell_type": "code",
   "execution_count": 25,
   "metadata": {},
   "outputs": [
    {
     "name": "stdout",
     "output_type": "stream",
     "text": [
      "Addition of two number : 5\n"
     ]
    }
   ],
   "source": [
    "# Creating a Class add two number\n",
    "class add:\n",
    "    def addtwo(self,a,b):\n",
    "        c=a+b\n",
    "        print(\"Addition of two number :\",c)\n",
    "\n",
    "obj = add()\n",
    "obj.addtwo(2,3)"
   ]
  },
  {
   "cell_type": "code",
   "execution_count": 31,
   "metadata": {},
   "outputs": [
    {
     "name": "stdout",
     "output_type": "stream",
     "text": [
      "[3, 5]\n"
     ]
    }
   ],
   "source": [
    "# Creating a class to find the odd number from the list and takinf the input from the user\n",
    "class odd_finder:\n",
    "    \n",
    "    def odd_number(self):\n",
    "        \n",
    "        ls = []\n",
    "        odd_ls=[]\n",
    "        n = int(input(\"Enter the no. of Number :\"))\n",
    "        \n",
    "        for i in range(0,n):\n",
    "            j = int(input(\"Enter the number in List :\"))\n",
    "            ls.append(j)\n",
    "\n",
    "        for i in ls:\n",
    "            if(i%2!=0):\n",
    "                odd_ls.append(i)\n",
    "        \n",
    "        print(\"The Odd Number List :\",odd_ls)\n",
    "\n",
    "obj = odd_finder()\n",
    "obj.odd_number()\n",
    "\n"
   ]
  },
  {
   "cell_type": "code",
   "execution_count": 36,
   "metadata": {},
   "outputs": [
    {
     "name": "stdout",
     "output_type": "stream",
     "text": [
      "Even_List : [52, 14, 36, 96, 74, 58, 6, 2, 44]\n",
      "Even :  9\n",
      "Avg of Even :  42.44444444444444\n"
     ]
    }
   ],
   "source": [
    "# Creating a class to find the even number from the list\n",
    "class Even_Finder:\n",
    "    def __init__(self):\n",
    "        self.random_number = [52,14,25,36,96,85,74,47,58,69,25,6,45,63,67,81,9,1,7,1,2,13,1,45,44]\n",
    "        self.even_list = []\n",
    "\n",
    "    # create a method to find even number\n",
    "    def even(self):\n",
    "        random = self.random_number\n",
    "        even = 0\n",
    "        \n",
    "        for i in random:\n",
    "            if(i%2==0):\n",
    "                even += 1\n",
    "                self.even_list.append(i)\n",
    "        \n",
    "        print(\"Even_List :\",self.even_list)\n",
    "        print(\"Even : \",even)\n",
    "        sum=0\n",
    "        count=0\n",
    "        \n",
    "        for i in self.even_list:\n",
    "            sum+=i\n",
    "            count+=1\n",
    "        print(\"Avg of Even : \",sum/count)\n",
    "\n",
    "\n",
    "obj = Even_Finder()\n",
    "obj.even()"
   ]
  },
  {
   "cell_type": "code",
   "execution_count": 39,
   "metadata": {},
   "outputs": [
    {
     "name": "stdout",
     "output_type": "stream",
     "text": [
      "Odd_List : [25, 85, 47, 69, 25, 45, 63, 67, 81, 9, 1, 7, 1, 13, 1, 45]\n",
      "Odd :  16\n",
      "Avg of Odd :  36.5\n"
     ]
    }
   ],
   "source": [
    "# Creating a class to find the odd number from the list\n",
    "class Odd_Finder:\n",
    "    def __init__(self):\n",
    "        self.random_number = [52,14,25,36,96,85,74,47,58,69,25,6,45,63,67,81,9,1,7,1,2,13,1,45,44]\n",
    "        self.odd_list = []\n",
    "\n",
    "    # create a method to find even number\n",
    "    def odd(self):\n",
    "        random = self.random_number\n",
    "        odd = 0\n",
    "        \n",
    "        for i in random:\n",
    "            if(i%2!=0):\n",
    "                odd += 1\n",
    "                self.odd_list.append(i)\n",
    "        \n",
    "        print(\"Odd_List :\",self.odd_list)\n",
    "        print(\"Odd : \",odd)\n",
    "        sum=0\n",
    "        count=0\n",
    "        \n",
    "        for i in self.odd_list:\n",
    "            sum+=i\n",
    "            count+=1\n",
    "        print(\"Avg of Odd : \",sum/count)\n",
    "\n",
    "\n",
    "obj = Odd_Finder()\n",
    "obj.odd()"
   ]
  },
  {
   "cell_type": "code",
   "execution_count": 34,
   "metadata": {},
   "outputs": [
    {
     "name": "stdout",
     "output_type": "stream",
     "text": [
      "Index of number 44 : 24\n"
     ]
    }
   ],
   "source": [
    "# Creating a class with method to find the index of the number in the given list\n",
    "class Index_Find:\n",
    "\n",
    "    # Default Constructor\n",
    "    def __init__(self):\n",
    "        self.random_number = [52,14,25,36,96,85,74,47,58,69,25,6,45,63,67,81,9,1,7,1,2,13,1,45,44]\n",
    "        \n",
    "    # creating a method to find the index of the number in the list\n",
    "    def target_finder(self,i):\n",
    "        count=0\n",
    "        list = self.random_number\n",
    "        for j in list:\n",
    "            if i==j:\n",
    "                print(\"Index of number\",i,\":\",count)\n",
    "                break\n",
    "            count+=1\n",
    "\n",
    "obj = Index_Find()\n",
    "obj.target_finder(44)"
   ]
  },
  {
   "cell_type": "code",
   "execution_count": 1,
   "metadata": {},
   "outputs": [
    {
     "name": "stdout",
     "output_type": "stream",
     "text": [
      "The Area : 78.5\n",
      "The Perimeter : 31.400000000000002\n"
     ]
    }
   ],
   "source": [
    "class Circle:\n",
    "    def __init__(self):\n",
    "        self.r = int(input(\"Enter the Radius : \"))\n",
    "\n",
    "    def circle_area(self):\n",
    "        area = 3.14*self.r*self.r\n",
    "        print(\"The Area :\",area)\n",
    "\n",
    "    def circle_perimeter(self):\n",
    "        perimeter = 2*3.14*self.r\n",
    "        print(\"The Perimeter :\",perimeter)\n",
    "\n",
    "obj = Circle()\n",
    "obj.circle_area()\n",
    "obj.circle_perimeter()"
   ]
  }
 ],
 "metadata": {
  "kernelspec": {
   "display_name": "Python 3",
   "language": "python",
   "name": "python3"
  },
  "language_info": {
   "codemirror_mode": {
    "name": "ipython",
    "version": 3
   },
   "file_extension": ".py",
   "mimetype": "text/x-python",
   "name": "python",
   "nbconvert_exporter": "python",
   "pygments_lexer": "ipython3",
   "version": "3.12.4"
  }
 },
 "nbformat": 4,
 "nbformat_minor": 2
}
