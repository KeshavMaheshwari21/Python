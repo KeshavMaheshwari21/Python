{
 "cells": [
  {
   "cell_type": "markdown",
   "metadata": {},
   "source": [
    "<h2>Exception Handling</h2>"
   ]
  },
  {
   "cell_type": "code",
   "execution_count": 11,
   "metadata": {},
   "outputs": [
    {
     "name": "stdout",
     "output_type": "stream",
     "text": [
      "My name is keshav and I am 98 years old\n"
     ]
    }
   ],
   "source": [
    "name = input('Please enter your name : ')\n",
    "print(name)\n",
    "age=int(input('Please enter your age : '))\n",
    "\n",
    "print(\"My name is\",name,\"and I am\",age,'years old')\n",
    "print('Imp line 1')\n",
    "print('Imp line 2')\n",
    "print('Imp line 3')\n",
    "print('Imp line 4')"
   ]
  },
  {
   "cell_type": "code",
   "execution_count": null,
   "metadata": {},
   "outputs": [],
   "source": [
    "# Compile time error\n",
    "# Run time error\n",
    "\n",
    "# It is a unwanted situation that disturb the program execution"
   ]
  },
  {
   "cell_type": "code",
   "execution_count": null,
   "metadata": {},
   "outputs": [],
   "source": [
    "# Exception Handling\n",
    "# try , except , else , finally"
   ]
  },
  {
   "cell_type": "code",
   "execution_count": 17,
   "metadata": {},
   "outputs": [
    {
     "name": "stdout",
     "output_type": "stream",
     "text": [
      "keshav67\n",
      "My name is keshav67 and I am 89 years old\n",
      "Error is not occured\n",
      "Finally printed\n",
      "Imp line 1\n",
      "Imp line 2\n",
      "Imp line 3\n",
      "Imp line 4\n",
      "Imp line 5\n",
      "Imp line 6\n"
     ]
    }
   ],
   "source": [
    "try:\n",
    "    name = input('Please enter your name : ')\n",
    "    print(name)\n",
    "    age=int(input('Please enter your age : ')) # Doubtfull\n",
    "    print(\"My name is\",name,\"and I am\",age,'years old')\n",
    "\n",
    "except: \n",
    "    print('Error is occured')\n",
    "\n",
    "else: \n",
    "    print('Error is not occured')\n",
    "\n",
    "finally: # Always\n",
    "    print('Finally printed')\n",
    "\n",
    "print('Imp line 1')\n",
    "print('Imp line 2')\n",
    "print('Imp line 3')\n",
    "print('Imp line 4')\n",
    "print('Imp line 5')\n",
    "print('Imp line 6')"
   ]
  },
  {
   "cell_type": "markdown",
   "metadata": {},
   "source": [
    "Object  Oriented Programing"
   ]
  },
  {
   "cell_type": "markdown",
   "metadata": {},
   "source": [
    "Class is a blueprint to create a object and a user defined datatype"
   ]
  },
  {
   "cell_type": "code",
   "execution_count": 18,
   "metadata": {},
   "outputs": [],
   "source": [
    "class college:\n",
    "    # properrtes\n",
    "    college_name = \"Pooornima Institute of Engineering\"\n",
    "    college_city = \"Jaipur\"\n",
    "    "
   ]
  },
  {
   "cell_type": "code",
   "execution_count": 23,
   "metadata": {},
   "outputs": [
    {
     "name": "stdout",
     "output_type": "stream",
     "text": [
      "Pooornima Institute of Engineering\n",
      "IIT Mumbai\n"
     ]
    }
   ],
   "source": [
    "# Object or Instance\n",
    "obj = college()\n",
    "# print(college_name) this cannot be directly accessed\n",
    "print(obj.college_name) # we can access through making a object\n",
    "\n",
    "obj.college_name = \"IIT Mumbai\"\n",
    "\n",
    "print(obj.college_name)"
   ]
  },
  {
   "cell_type": "markdown",
   "metadata": {},
   "source": [
    "<!-- Class Object  -->"
   ]
  }
 ],
 "metadata": {
  "kernelspec": {
   "display_name": "Python 3",
   "language": "python",
   "name": "python3"
  },
  "language_info": {
   "codemirror_mode": {
    "name": "ipython",
    "version": 3
   },
   "file_extension": ".py",
   "mimetype": "text/x-python",
   "name": "python",
   "nbconvert_exporter": "python",
   "pygments_lexer": "ipython3",
   "version": "3.12.4"
  }
 },
 "nbformat": 4,
 "nbformat_minor": 2
}
